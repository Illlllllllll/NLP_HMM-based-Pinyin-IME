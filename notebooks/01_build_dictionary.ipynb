{
 "cells": [
  {
   "cell_type": "markdown",
   "id": "52162aee",
   "metadata": {},
   "source": [
    "# 01 构建拼音-汉字字典与统计占位\n",
    "\n",
    "本 Notebook 读取 `Chara.gb` 与 `TONEPY.txt`，演示：\n",
    "1. 解析两类来源的映射格式\n",
    "2. 统一为 `pinyin -> [chars]` 与 `char -> [pinyin_with_tone]` 两种索引结构\n",
    "3. 去重、排序（按字符频次或出现顺序；当前暂用原始顺序）\n",
    "4. 为后续 HMM 构建发射概率提供原始候选集合\n",
    "\n",
    "后续可扩展：结合语料统计每个 (char, pinyin) 频次，转成发射概率矩阵。当前仅做结构演示。"
   ]
  },
  {
   "cell_type": "code",
   "execution_count": 4,
   "id": "9869770a",
   "metadata": {},
   "outputs": [
    {
     "name": "stdout",
     "output_type": "stream",
     "text": [
      "Chara.gb exists: True\n",
      "TONEPY.txt exists: True\n"
     ]
    }
   ],
   "source": [
    "from pathlib import Path\n",
    "import re\n",
    "from collections import defaultdict\n",
    "\n",
    "DATA_DIR = Path('../usrs')  # 以仓库根相对定位\n",
    "chara_path = DATA_DIR / 'Chara.gb'\n",
    "tonepy_path = DATA_DIR / 'TONEPY.txt'\n",
    "\n",
    "print('Chara.gb exists:', chara_path.exists())\n",
    "print('TONEPY.txt exists:', tonepy_path.exists())"
   ]
  },
  {
   "cell_type": "markdown",
   "id": "65560c46",
   "metadata": {},
   "source": [
    "## 解析 Chara.gb\n",
    "格式示例：`啊 a1 a2 a4 a5` -> 第一个是汉字，后面是带声调数字的拼音候选。\n",
    "注意：有些行包含全角字符或多义条目，需要 strip。空行与异常行需跳过。"
   ]
  },
  {
   "cell_type": "code",
   "execution_count": 5,
   "id": "217f08c1",
   "metadata": {},
   "outputs": [
    {
     "data": {
      "text/plain": [
       "[('啰', ['luo1', 'luo5']),\n",
       " ('潾', ['lin2']),\n",
       " ('Ｑ', ['qiu1']),\n",
       " ('啊', ['a1', 'a2', 'a4', 'a5']),\n",
       " ('阿', ['a1', 'e1', 'a4']),\n",
       " ('埃', ['ai1']),\n",
       " ('挨', ['ai1', 'ai2', 'ai5']),\n",
       " ('哎', ['ai1']),\n",
       " ('唉', ['ai1', 'ai4']),\n",
       " ('哀', ['ai1'])]"
      ]
     },
     "execution_count": 5,
     "metadata": {},
     "output_type": "execute_result"
    }
   ],
   "source": [
    "def parse_chara_gb(path: Path):\n",
    "    char_to_pinyins = {}  # char -> list[pinyinTone]\n",
    "    with path.open('r', encoding='utf-8') as f:\n",
    "        for line in f:\n",
    "            line = line.strip()\n",
    "            if not line:\n",
    "                continue\n",
    "            parts = line.split()\n",
    "            if len(parts) < 2:\n",
    "                continue\n",
    "            ch = parts[0]  # 单字\n",
    "            # 后面是若干声调拼音，如 a1 a2 a4 a5\n",
    "            pys = parts[1:]\n",
    "            char_to_pinyins[ch] = pys\n",
    "    return char_to_pinyins\n",
    "\n",
    "char_to_pinyins = parse_chara_gb(chara_path)\n",
    "list(char_to_pinyins.items())[:10]"
   ]
  },
  {
   "cell_type": "markdown",
   "id": "666b1013",
   "metadata": {},
   "source": [
    "## 解析 TONEPY.txt\n",
    "格式示例：`ai4\t爱碍艾...` -> 第一列为带声调拼音，第二列为连续汉字字符串。\n",
    "空列或无汉字时需记录空列表，便于后续一致化。"
   ]
  },
  {
   "cell_type": "code",
   "execution_count": 6,
   "id": "8611c80c",
   "metadata": {},
   "outputs": [
    {
     "data": {
      "text/plain": [
       "[('a1', ['阿', '啊', '呵', '腌', '吖', '锕']),\n",
       " ('a2', ['啊', '呵', '嗄']),\n",
       " ('a3', ['啊', '呵']),\n",
       " ('a4', ['啊', '呵']),\n",
       " ('a5', ['阿', '啊', '呵']),\n",
       " ('ai1', ['哀', '挨', '埃', '唉', '哎', '捱', '锿']),\n",
       " ('ai2', ['呆', '挨', '癌', '皑', '捱']),\n",
       " ('ai3', ['矮', '哎', '蔼', '霭', '嗳'])]"
      ]
     },
     "execution_count": 6,
     "metadata": {},
     "output_type": "execute_result"
    }
   ],
   "source": [
    "def parse_tonepy(path: Path):\n",
    "    pinyin_to_chars = {}  # pinyinTone -> list[char]\n",
    "    with path.open('r', encoding='utf-8') as f:\n",
    "        for line in f:\n",
    "            # 去除换行符（兼容 \\n / \\r\\n）\n",
    "            line = line.rstrip('\\r\\n')\n",
    "            if not line:\n",
    "                continue\n",
    "            if '\t' not in line:  # 需包含制表符分隔\n",
    "                continue\n",
    "            py_tone, chars = line.split('\t', 1)\n",
    "            chars = chars.strip()\n",
    "            # 将连续字符串展开为单字列表\n",
    "            pinyin_to_chars[py_tone] = list(chars) if chars else []\n",
    "    return pinyin_to_chars\n",
    "\n",
    "pinyin_to_chars = parse_tonepy(tonepy_path)\n",
    "list(pinyin_to_chars.items())[:8]"
   ]
  },
  {
   "cell_type": "markdown",
   "id": "718250f8",
   "metadata": {},
   "source": [
    "## 构建无声调拼音索引\n",
    "HMM 发射概率常用无声调形式（用户一般输入不含声调）。需要：\n",
    "1. 去除末尾数字 (1-5) 形成 base pinyin\n",
    "2. 合并同 base pinyin 下所有汉字去重\n",
    "3. 可按频次排序（当前无频次，维持解析顺序）"
   ]
  },
  {
   "cell_type": "code",
   "execution_count": 7,
   "id": "e1492570",
   "metadata": {},
   "outputs": [
    {
     "data": {
      "text/plain": [
       "['哀', '挨', '埃', '唉', '哎', '捱', '锿', '呆', '癌', '皑', '矮', '蔼', '霭', '嗳', '爱']"
      ]
     },
     "execution_count": 7,
     "metadata": {},
     "output_type": "execute_result"
    }
   ],
   "source": [
    "digit_re = re.compile(r'([a-z]+)[1-5]$')\n",
    "\n",
    "def tone_to_base(py_tone: str) -> str:\n",
    "    m = digit_re.match(py_tone)\n",
    "    return m.group(1) if m else py_tone\n",
    "\n",
    "base_pinyin_to_chars = defaultdict(list)\n",
    "for py_tone, chars in pinyin_to_chars.items():\n",
    "    base = tone_to_base(py_tone)\n",
    "    for ch in chars:\n",
    "        if ch not in base_pinyin_to_chars[base]:  # 保持顺序去重\n",
    "            base_pinyin_to_chars[base].append(ch)\n",
    "\n",
    "# 示例如 'ai'\n",
    "base_pinyin_to_chars['ai'][:15]"
   ]
  },
  {
   "cell_type": "markdown",
   "id": "48674a2b",
   "metadata": {},
   "source": [
    "## 结合 char->pinyins 反向补充\n",
    "有些字可能只在 `Chara.gb` 中出现，补充其拼音到 base 映射里。"
   ]
  },
  {
   "cell_type": "code",
   "execution_count": 8,
   "id": "dbb44003",
   "metadata": {},
   "outputs": [
    {
     "data": {
      "text/plain": [
       "(420, ['阿', '啊', '呵', '腌', '吖', '锕', '嗄'])"
      ]
     },
     "execution_count": 8,
     "metadata": {},
     "output_type": "execute_result"
    }
   ],
   "source": [
    "for ch, py_tones in char_to_pinyins.items():\n",
    "    for py_tone in py_tones:\n",
    "        base = tone_to_base(py_tone)\n",
    "        bucket = base_pinyin_to_chars[base]\n",
    "        if ch not in bucket:\n",
    "            bucket.append(ch)\n",
    "len(base_pinyin_to_chars), base_pinyin_to_chars['a'][:20]"
   ]
  },
  {
   "cell_type": "markdown",
   "id": "7873c29b",
   "metadata": {},
   "source": [
    "## 保存结果（示例 JSON）\n",
    "后续 HMM 发射概率将基于 (char, pinyin) 频次；当前仅导出候选集合。\n",
    "实际项目中应放入 `resources/pinyin_map.json`（不含声调）。"
   ]
  },
  {
   "cell_type": "code",
   "execution_count": null,
   "id": "9eba8f01",
   "metadata": {},
   "outputs": [
    {
     "data": {
      "text/plain": [
       "(WindowsPath('../resources/pinyin_map.example.json'), 96479)"
      ]
     },
     "execution_count": 6,
     "metadata": {},
     "output_type": "execute_result"
    }
   ],
   "source": [
    "import json, os\n",
    "resources_dir = Path('..') / 'resources'\n",
    "resources_dir.mkdir(exist_ok=True)\n",
    "output_path = resources_dir / 'pinyin_map.example.json'\n",
    "with output_path.open('w', encoding='utf-8') as f:\n",
    "    json.dump(base_pinyin_to_chars, f, ensure_ascii=False, indent=2)\n",
    "output_path, output_path.stat().st_size"
   ]
  },
  {
   "cell_type": "markdown",
   "id": "65147411",
   "metadata": {},
   "source": [
    "## 后续步骤建议\n",
    "1. 引入语料（人民日报等）统计单字与双字频次。\n",
    "2. 构建初始概率 π（句首字频次归一化）。\n",
    "3. 构建转移概率 A：bigram 平滑。\n",
    "4. 构建发射概率 B：估计 P(pinyin|char)=count(char emits pinyin)/count(char)。\n",
    "5. 实现 Viterbi：输入无声调拼音序列 -> 输出最优汉字序列。\n",
    "6. 增加 Top-K：改造回溯结构或用 beam search。\n",
    "7. 评估：字符准确率；可选词切分后词准确率。\n",
    "\n",
    "（本 Notebook 仅完成基础字典转换示例。）"
   ]
  }
 ],
 "metadata": {
  "kernelspec": {
   "display_name": "Python 3",
   "language": "python",
   "name": "python3"
  },
  "language_info": {
   "codemirror_mode": {
    "name": "ipython",
    "version": 3
   },
   "file_extension": ".py",
   "mimetype": "text/x-python",
   "name": "python",
   "nbconvert_exporter": "python",
   "pygments_lexer": "ipython3",
   "version": "3.9.23"
  }
 },
 "nbformat": 4,
 "nbformat_minor": 5
}
