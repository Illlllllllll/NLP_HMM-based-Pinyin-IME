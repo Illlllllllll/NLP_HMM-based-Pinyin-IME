{
 "cells": [
  {
   "cell_type": "markdown",
   "id": "0da943c7",
   "metadata": {},
   "source": [
    "# 02 Viterbi 解码演示\n",
    "本 Notebook 构造一个demo HMM 参数并演示 `viterbi_decode`。实际使用时请加载统计生成的 JSON。"
   ]
  },
  {
   "cell_type": "code",
   "execution_count": 1,
   "id": "24fe28a9",
   "metadata": {},
   "outputs": [],
   "source": [
    "from pathlib import Path\n",
    "import json, math\n",
    "import sys\n",
    "sys.path.append('..')  # 允许相对导入\n",
    "from src.models.hmm import HMMParams\n",
    "from src.decoder.viterbi import viterbi_decode"
   ]
  },
  {
   "cell_type": "code",
   "execution_count": null,
   "id": "551acd24",
   "metadata": {},
   "outputs": [
    {
     "data": {
      "text/plain": [
       "'你好'"
      ]
     },
     "execution_count": 2,
     "metadata": {},
     "output_type": "execute_result"
    }
   ],
   "source": [
    "# 构造demo HMM\n",
    "hmm = HMMParams(\n",
    "    init_log_probs={'你': 0.0, '泥': -5.0},\n",
    "    trans_log_probs={'你': {'好': 0.0, '号': -2.0}, '泥': {'好': -3.0}},\n",
    "    emit_log_probs={'你': {'ni': 0.0}, '泥': {'ni': -1.0}, '好': {'hao': 0.0}, '号': {'hao': -0.5}},\n",
    ")\n",
    "pinyin_map = {'ni': ['你','泥'], 'hao': ['好','号']}\n",
    "viterbi_decode(['ni','hao'], pinyin_map, hmm)"
   ]
  }
 ],
 "metadata": {
  "kernelspec": {
   "display_name": "Python 3",
   "language": "python",
   "name": "python3"
  },
  "language_info": {
   "codemirror_mode": {
    "name": "ipython",
    "version": 3
   },
   "file_extension": ".py",
   "mimetype": "text/x-python",
   "name": "python",
   "nbconvert_exporter": "python",
   "pygments_lexer": "ipython3",
   "version": "3.9.23"
  }
 },
 "nbformat": 4,
 "nbformat_minor": 5
}
